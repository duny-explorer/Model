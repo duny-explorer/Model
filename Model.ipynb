{
 "cells": [
  {
   "cell_type": "code",
   "execution_count": 1,
   "metadata": {},
   "outputs": [],
   "source": [
    "from tensorflow.python.keras.preprocessing.image import ImageDataGenerator\n",
    "from tensorflow.python.keras.models import Sequential\n",
    "from tensorflow.python.keras.layers import Conv2D, MaxPooling2D\n",
    "from tensorflow.python.keras.layers import Activation, Dropout, Flatten, Dense"
   ]
  },
  {
   "cell_type": "code",
   "execution_count": 2,
   "metadata": {},
   "outputs": [
    {
     "name": "stdout",
     "output_type": "stream",
     "text": [
      "Found 560 images belonging to 4 classes.\n"
     ]
    }
   ],
   "source": [
    "datagen = ImageDataGenerator(rescale=1. / 255)\n",
    "\n",
    "train_generator = datagen.flow_from_directory(\n",
    "    \"train\",\n",
    "    target_size=(250, 250),\n",
    "    batch_size=16,\n",
    "    class_mode='categorical')"
   ]
  },
  {
   "cell_type": "code",
   "execution_count": 19,
   "metadata": {},
   "outputs": [
    {
     "name": "stdout",
     "output_type": "stream",
     "text": [
      "Found 130 images belonging to 4 classes.\n"
     ]
    }
   ],
   "source": [
    "test_generator = datagen.flow_from_directory(\n",
    "    'test',\n",
    "    target_size=(250, 250),\n",
    "    batch_size=16,\n",
    "    class_mode='categorical')"
   ]
  },
  {
   "cell_type": "code",
   "execution_count": 14,
   "metadata": {},
   "outputs": [],
   "source": [
    "model = Sequential()\n",
    "model.add(Conv2D(32, (3, 3), input_shape=(250, 250, 3)))\n",
    "model.add(Activation('relu'))\n",
    "model.add(MaxPooling2D(pool_size=(2, 2)))\n",
    "\n",
    "model.add(Conv2D(32, (3, 3)))\n",
    "model.add(Activation('relu'))\n",
    "model.add(MaxPooling2D(pool_size=(2, 2)))\n",
    "\n",
    "model.add(Conv2D(64, (3, 3)))\n",
    "model.add(Activation('relu'))\n",
    "model.add(MaxPooling2D(pool_size=(2, 2)))\n",
    "\n",
    "model.add(Flatten())\n",
    "model.add(Dense(64))\n",
    "model.add(Activation('relu'))\n",
    "model.add(Dropout(0.5))\n",
    "\n",
    "model.add(Dense(4, activation='softmax'))"
   ]
  },
  {
   "cell_type": "code",
   "execution_count": 15,
   "metadata": {},
   "outputs": [],
   "source": [
    "model.compile(loss='categorical_crossentropy',\n",
    "              optimizer='adam',\n",
    "              metrics=['accuracy'])"
   ]
  },
  {
   "cell_type": "code",
   "execution_count": 20,
   "metadata": {},
   "outputs": [
    {
     "name": "stdout",
     "output_type": "stream",
     "text": [
      "Epoch 1/30\n",
      "35/35 [==============================] - 53s 2s/step - loss: 1.2766 - acc: 0.4000 - val_loss: 1.1355 - val_acc: 0.3984\n",
      "Epoch 2/30\n",
      "35/35 [==============================] - 51s 1s/step - loss: 1.2313 - acc: 0.4018 - val_loss: 1.2944 - val_acc: 0.4375\n",
      "Epoch 3/30\n",
      "35/35 [==============================] - 52s 1s/step - loss: 1.2583 - acc: 0.4125 - val_loss: 1.0391 - val_acc: 0.5234\n",
      "Epoch 4/30\n",
      "35/35 [==============================] - 51s 1s/step - loss: 1.1522 - acc: 0.4518 - val_loss: 1.0818 - val_acc: 0.5703\n",
      "Epoch 5/30\n",
      "35/35 [==============================] - 55s 2s/step - loss: 1.1358 - acc: 0.4893 - val_loss: 0.9556 - val_acc: 0.5938\n",
      "Epoch 6/30\n",
      "35/35 [==============================] - 53s 2s/step - loss: 1.0511 - acc: 0.5125 - val_loss: 1.0359 - val_acc: 0.5781\n",
      "Epoch 7/30\n",
      "35/35 [==============================] - 55s 2s/step - loss: 1.0640 - acc: 0.5179 - val_loss: 0.9519 - val_acc: 0.6172\n",
      "Epoch 8/30\n",
      "35/35 [==============================] - 57s 2s/step - loss: 1.0512 - acc: 0.5500 - val_loss: 1.0557 - val_acc: 0.5312\n",
      "Epoch 9/30\n",
      "35/35 [==============================] - 54s 2s/step - loss: 1.0522 - acc: 0.4875 - val_loss: 1.0717 - val_acc: 0.5703\n",
      "Epoch 10/30\n",
      "35/35 [==============================] - 53s 2s/step - loss: 0.9382 - acc: 0.5946 - val_loss: 0.8772 - val_acc: 0.6719\n",
      "Epoch 11/30\n",
      "35/35 [==============================] - 61s 2s/step - loss: 0.9149 - acc: 0.5839 - val_loss: 0.9262 - val_acc: 0.6172\n",
      "Epoch 12/30\n",
      "35/35 [==============================] - 55s 2s/step - loss: 0.8551 - acc: 0.5946 - val_loss: 0.9061 - val_acc: 0.6406\n",
      "Epoch 13/30\n",
      "35/35 [==============================] - 57s 2s/step - loss: 0.9131 - acc: 0.5679 - val_loss: 0.9386 - val_acc: 0.6406\n",
      "Epoch 14/30\n",
      "35/35 [==============================] - 56s 2s/step - loss: 0.8478 - acc: 0.6429 - val_loss: 0.9674 - val_acc: 0.6250\n",
      "Epoch 15/30\n",
      "35/35 [==============================] - 59s 2s/step - loss: 0.9028 - acc: 0.6036 - val_loss: 0.9294 - val_acc: 0.6250\n",
      "Epoch 16/30\n",
      "35/35 [==============================] - 67s 2s/step - loss: 0.8370 - acc: 0.6429 - val_loss: 0.9524 - val_acc: 0.6797\n",
      "Epoch 17/30\n",
      "35/35 [==============================] - 61s 2s/step - loss: 0.7148 - acc: 0.7054 - val_loss: 0.8991 - val_acc: 0.6406\n",
      "Epoch 18/30\n",
      "35/35 [==============================] - 61s 2s/step - loss: 0.7388 - acc: 0.6625 - val_loss: 0.9475 - val_acc: 0.6094\n",
      "Epoch 19/30\n",
      "35/35 [==============================] - 59s 2s/step - loss: 0.7212 - acc: 0.6839 - val_loss: 0.9782 - val_acc: 0.6641\n",
      "Epoch 20/30\n",
      "35/35 [==============================] - 61s 2s/step - loss: 0.6283 - acc: 0.7321 - val_loss: 0.9068 - val_acc: 0.6719\n",
      "Epoch 21/30\n",
      "35/35 [==============================] - 57s 2s/step - loss: 0.6799 - acc: 0.7089 - val_loss: 0.9771 - val_acc: 0.6797\n",
      "Epoch 22/30\n",
      "35/35 [==============================] - 56s 2s/step - loss: 0.7019 - acc: 0.7143 - val_loss: 0.8753 - val_acc: 0.6641\n",
      "Epoch 23/30\n",
      "35/35 [==============================] - 63s 2s/step - loss: 0.6524 - acc: 0.7393 - val_loss: 1.0156 - val_acc: 0.6562\n",
      "Epoch 24/30\n",
      "35/35 [==============================] - 58s 2s/step - loss: 0.5636 - acc: 0.7464 - val_loss: 1.0187 - val_acc: 0.6953\n",
      "Epoch 25/30\n",
      "35/35 [==============================] - 59s 2s/step - loss: 0.6745 - acc: 0.7393 - val_loss: 0.9895 - val_acc: 0.6562\n",
      "Epoch 26/30\n",
      "35/35 [==============================] - 70s 2s/step - loss: 0.5888 - acc: 0.7821 - val_loss: 0.9310 - val_acc: 0.6641\n",
      "Epoch 27/30\n",
      "35/35 [==============================] - 63s 2s/step - loss: 0.5590 - acc: 0.7571 - val_loss: 1.0532 - val_acc: 0.6797\n",
      "Epoch 28/30\n",
      "35/35 [==============================] - 64s 2s/step - loss: 0.5243 - acc: 0.8000 - val_loss: 1.1274 - val_acc: 0.6797\n",
      "Epoch 29/30\n",
      "35/35 [==============================] - 60s 2s/step - loss: 0.5100 - acc: 0.7804 - val_loss: 1.1879 - val_acc: 0.6641\n",
      "Epoch 30/30\n",
      "35/35 [==============================] - 61s 2s/step - loss: 0.4937 - acc: 0.8071 - val_loss: 1.0078 - val_acc: 0.7031\n"
     ]
    },
    {
     "data": {
      "text/plain": [
       "<tensorflow.python.keras.callbacks.History at 0x22f273ae198>"
      ]
     },
     "execution_count": 20,
     "metadata": {},
     "output_type": "execute_result"
    }
   ],
   "source": [
    "model.fit_generator(\n",
    "    train_generator,\n",
    "    steps_per_epoch=560 // 16,\n",
    "    epochs=30,\n",
    "    validation_data=test_generator,\n",
    "    validation_steps=130 // 16)"
   ]
  },
  {
   "cell_type": "code",
   "execution_count": 31,
   "metadata": {},
   "outputs": [
    {
     "data": {
      "text/plain": [
       "'Точност(аккуратность) модели - 69.01%'"
      ]
     },
     "execution_count": 31,
     "metadata": {},
     "output_type": "execute_result"
    }
   ],
   "source": [
    "\"Точност(аккуратность) модели - {:.2%}\".format(model.evaluate_generator(test_generator, 40)[1])"
   ]
  },
  {
   "cell_type": "code",
   "execution_count": 34,
   "metadata": {},
   "outputs": [
    {
     "data": {
      "text/plain": [
       "{'acne': 0, 'eczema': 1, 'health': 2, 'herpes': 3}"
      ]
     },
     "execution_count": 34,
     "metadata": {},
     "output_type": "execute_result"
    }
   ],
   "source": [
    "train_generator.class_indices"
   ]
  }
 ],
 "metadata": {
  "kernelspec": {
   "display_name": "Python 3",
   "language": "python",
   "name": "python3"
  },
  "language_info": {
   "codemirror_mode": {
    "name": "ipython",
    "version": 3
   },
   "file_extension": ".py",
   "mimetype": "text/x-python",
   "name": "python",
   "nbconvert_exporter": "python",
   "pygments_lexer": "ipython3",
   "version": "3.5.6"
  }
 },
 "nbformat": 4,
 "nbformat_minor": 2
}
